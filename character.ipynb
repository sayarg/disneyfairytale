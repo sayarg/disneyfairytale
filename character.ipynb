{
 "cells": [
  {
   "cell_type": "code",
   "execution_count": 27,
   "metadata": {},
   "outputs": [],
   "source": [
    "from IPython.display import Image\n",
    "\n",
    "LETTERS = {0: 'A', 1: 'B', 2: 'C'}\n",
    "DIGITS = {'A': 0, 'B': 1, 'C': 2}"
   ]
  },
  {
   "cell_type": "code",
   "execution_count": 43,
   "metadata": {},
   "outputs": [],
   "source": [
    "CHARACTERS = {\n",
    "    'Boy': {\n",
    "        'Crimson': {\n",
    "            'Ice cream': {\n",
    "                'Piano': ['Prince Charming', 'https://vignette.wikia.nocookie.net/disney/images/e/eb/Charming2.png/revision/latest/top-crop/width/300/height/300?cb=20140126055630'],\n",
    "                'Guitar': ['Duke of Weselton', 'https://vignette.wikia.nocookie.net/disneyvillains/images/8/86/Duke_of_Weselton.png/revision/latest/top-crop/width/360/height/450?cb=20190521110716'],\n",
    "                'Trumpet': ['Alladin', 'https://upload.wikimedia.org/wikipedia/en/thumb/b/be/Aladdin_Disney_pose.png/220px-Aladdin_Disney_pose.png']\n",
    "            },\n",
    "            'Cookies': {\n",
    "                'London': ['Kristoff', 'https://upload.wikimedia.org/wikipedia/en/thumb/2/2e/Kristoff_Bjorgman.png/200px-Kristoff_Bjorgman.png'],\n",
    "                'Paris': ['Beast', 'https://upload.wikimedia.org/wikipedia/en/thumb/4/4a/Disney-beast.PNG/220px-Disney-beast.PNG'],\n",
    "                'Tel Aviv': ['Jafar', 'https://upload.wikimedia.org/wikipedia/en/thumb/c/c3/Jafar%28Disney%29Character.png/220px-Jafar%28Disney%29Character.png']\n",
    "            },\n",
    "            'Choclate': {\n",
    "                'Harry Potter': ['Olaf', 'https://upload.wikimedia.org/wikipedia/en/thumb/6/6d/Olaf_from_Disney%27s_Frozen.png/160px-Olaf_from_Disney%27s_Frozen.png'],\n",
    "                'Malander': ['Gaston', 'https://vignette.wikia.nocookie.net/villains/images/3/35/Gaston_render.png/revision/latest?cb=20190228190038'],\n",
    "                'The Hobbit': ['Flynn', 'https://upload.wikimedia.org/wikipedia/en/4/48/Flynn_Rider_Eugene_Fitzherbert_Tangled.png']\n",
    "            }\n",
    "        },\n",
    "        'Lime': {\n",
    "            'Car': {\n",
    "                '7': ['Maui', 'https://i.pinimg.com/originals/76/62/f1/7662f1f9d771a32be1c5cedb90647282.jpg'],\n",
    "                '9': ['King Triton', 'https://vignette.wikia.nocookie.net/disney/images/f/ff/King_Triton_KHII.png/revision/latest?cb=20130128234010'],\n",
    "                '51': ['Grand Duke', 'https://www.pinclipart.com/picdir/middle/87-873586_grand-duke-cinderella-grand-duke-clipart.png']\n",
    "            },\n",
    "            'Boat': {\n",
    "                'Pokadots': ['Jack', 'https://vignette.wikia.nocookie.net/p__/images/7/77/Jack_jack_and_the_beanstalk_-_Google_Search_2-27-2017%2C_8-39-17_AM.png/revision/latest/scale-to-width-down/340?cb=20170227144035&path-prefix=protagonist'],\n",
    "                'Stripes': ['Giant', 'https://img.favpng.com/19/3/13/jack-and-the-beanstalk-giant-clip-art-png-favpng-iekPuvDTJdfV7nYemragFVLLX.jpg'],\n",
    "                'Triangles': ['Ron', 'https://media-exp1.licdn.com/dms/image/C4E0BAQFJl_euRiWuMA/company-logo_200_200/0?e=2159024400&v=beta&t=n_qpDcs337ydF4Dx6JV0Qlo_Gk6mxRLbXKinsXGFV4M']\n",
    "            },\n",
    "            'Plane': {\n",
    "                'Street Dance': ['Mowgli', 'https://vignette.wikia.nocookie.net/disney/images/5/50/Mowgli_Sitting.png/revision/latest/top-crop/width/300/height/300?cb=20160909031236'],\n",
    "                'Ballet': ['Doc', 'https://vignette.wikia.nocookie.net/heroes-and-villians/images/8/8b/Doc23.png/revision/latest?cb=20190318045117'],\n",
    "                'Disco': ['Happy', 'https://www.vhv.rs/dpng/d/71-712261_snow-white-dwarfs-happy-hd-png-download.png']\n",
    "            }\n",
    "        },\n",
    "        'Aqua': {\n",
    "            'Cat': {\n",
    "                'Pizza': ['Grumpy', 'https://i.pinimg.com/originals/d3/a8/b1/d3a8b1df68860b922dc56a63314ad967.png'],\n",
    "                'Burger': ['Sleepy', 'https://f0.pngfuel.com/png/424/942/sneezy-illustration-png-clip-art.png'],\n",
    "                'Chicken': ['Bashful', 'https://i.pinimg.com/originals/c2/ce/49/c2ce49f960b2cba54a9c751241eb5515.png']\n",
    "            },\n",
    "            'Robin': {\n",
    "                'Daisy': ['Sneezy', 'https://f0.pngfuel.com/png/951/710/snow-white-sneezy-dwarf-illustration-png-clip-art.png'],\n",
    "                'Rose': ['Dopey', 'https://vignette.wikia.nocookie.net/disney/images/0/0f/Dopey_image.png/revision/latest/top-crop/width/300/height/300?cb=20130525035222'],\n",
    "                'Bluebell': ['Hans', 'https://i.pinimg.com/originals/ca/2a/07/ca2a07c3ecc4d30f9f65cf4242c89b1e.png']\n",
    "            },\n",
    "            'Dolphin': {\n",
    "                'Scrabble': ['Woody', 'https://media.4rgos.it/i/Argos/8835466_R_Z001A?w=750&h=440&qlt=70'],\n",
    "                'Cluedo': ['Buzz Lightyear', 'https://images2.drct2u.com/pdp_main_tablet_x2/products/fw/fw140/fw140_di533.jpg'],\n",
    "                'Monopoly': ['Prince Philip', 'https://c7.uihere.com/files/17/335/778/prince-phillip-sleeping-beauty-maleficent-kingdom-hearts-birth-by-sleep-clip-art-sleeping-beauty-prince.jpg']\n",
    "            }\n",
    "        }\n",
    "    },\n",
    "    'Girl': {\n",
    "        'Crimson': {\n",
    "            'Ice cream': {\n",
    "                'Piano': ['Sleeping Beauty', 'https://lh3.googleusercontent.com/proxy/ELcZ7J5vdES4t0XOKX10f4VSPqjwKnyAfyBRK6bXGcGXTSr3TdYfVsOS1ZyjLKmvxeKechmOGyoLdL0Lf6faHE2oZM03Nu44Q_s0G_O9y_EZh334Yg_KzMuPvey5zNJp8V9C7OgbhxNt'],\n",
    "                'Guitar': ['Malificent', 'https://upload.wikimedia.org/wikipedia/en/thumb/a/a9/Maleficent_disney.png/220px-Maleficent_disney.png'],\n",
    "                'Trumpet': ['Fairy Godmother', 'https://i.pinimg.com/originals/00/23/e0/0023e0803be6551c2f253abce5d69dd3.png']\n",
    "            },\n",
    "            'Cookies': {\n",
    "                'London': ['Cinderella', 'https://www.vhv.rs/dpng/d/414-4144832_cinderella-png-fairy-tale-characters-cinderella-transparent-png.png'],\n",
    "                'Paris': ['Evil Stepmother', 'https://webpage.pace.edu/nreagin/tempmotherhood/fall2003/7/stepmother-lady%20tremaine.gif'],\n",
    "                'Tel Aviv': ['Drizella', 'https://vignette.wikia.nocookie.net/villains/images/e/e4/Drizella_Tremaine.png/revision/latest/top-crop/width/360/height/450?cb=20181002125730']\n",
    "            },\n",
    "            'Choclate': {\n",
    "                'Harry Potter': ['Anastasia', 'https://vignette.wikia.nocookie.net/p__/images/6/69/Anastasia_Tremaine.png/revision/latest?cb=20191217212457&path-prefix=protagonist'],\n",
    "                'Malander': ['Snow White', 'https://vignette.wikia.nocookie.net/fanmade-works/images/c/ca/Snow_white_transparent.png/revision/latest?cb=20170929055719'],\n",
    "                'The Hobbit': ['Evil Queen', 'https://img.favpng.com/10/14/16/evil-queen-snow-white-png-favpng-s7QD0vZMfRe6E576F9aC7nq2P.jpg']\n",
    "            }\n",
    "        },\n",
    "        'Lime': {\n",
    "            'Car': {\n",
    "                '7': ['Rupunzel', 'https://lh3.googleusercontent.com/proxy/VhBC5tYODtk5NanEhb5r0myGqqZBi9RU6u3qC9LNPvlMdGJUbdUtPQBC8tT-9wK72vNY-XxcA3MwkHoD5b_yrDFzzXyVTala_ZojysFEohdqWB6XvqLR80fDIdgO-gk7Pz52CjekU-ClYXvZfukR0hXEMMlDwpBKzi9pfjK61-ML'],\n",
    "                '9': ['Merryweather', 'https://www.clipartkey.com/mpngs/m/87-874376_the-beauty-aurora-sofia-sleeping-fairy-godmother-clipart.png'],\n",
    "                '51': ['Flora', 'https://www.pngitem.com/pimgs/m/525-5256425_flora-sleeping-beauty-fairies-hd-png-download.png']\n",
    "            },\n",
    "            'Boat': {\n",
    "                'Pokadots': ['Little Red Riding Hood', 'https://banner2.cleanpng.com/20180421/tjw/kisspng-little-red-riding-hood-big-bad-wolf-clip-art-red-hat-5adabf8c657b42.7817899615242853244157.jpg'],\n",
    "                'Stripes': ['Fauna', 'https://i7.pngguru.com/preview/959/491/636/princess-aurora-sleeping-beauty-fairy-disney-princess-flora-fauna-and-merryweather-sleeping-beauty.jpg'],\n",
    "                'Triangles': ['Mulan', 'https://p1.hiclipart.com/preview/408/310/489/disney-mulan-mulan.jpg']\n",
    "            },\n",
    "            'Plane': {\n",
    "                'Street Dance': ['Little Bo Peep', 'https://www.clipartkey.com/mpngs/m/275-2759879_transparent-toy-story-png-bo-peep-toy-story.png'],\n",
    "                'Ballet': ['Ariel', 'https://lh3.googleusercontent.com/proxy/Ma8rqFPMttt48VP-yqitcTWNegCb0LpU08gl6fTg1WZYAxX7lqnja1KFFzhVC7YlGmJ59CWMKnachCFzUwzVE6sIyyU0kG7saPSf3_qRHX_4BInN55Oyc0cYnHhE_KQ'],\n",
    "                'Disco': ['Belle', 'https://lh3.googleusercontent.com/proxy/G0STCsiCd_A6Y-a9u4Ux1hz45eAD1_rhiu3PxUrDQ020zvBB1GEYd6-PzRXpVsQ9Y2hyOHFusaEbi2oQ0R_3mL-2FfTKJwMsin6XQe1GZyNmEcPOxkVnli5dxxFXt9hT23XvxXSiirctR_OQgS97w-bPCvZvQHD-6dLI']\n",
    "            }\n",
    "        },\n",
    "        'Aqua': {\n",
    "            'Cat': {\n",
    "                'Pizza': ['Goldilocks', 'https://primeyourpump.com/wp-content/uploads/2018/05/GoldilocksTrans.png'],\n",
    "                'Burger': ['Mother Bear', 'https://w7.pngwing.com/pngs/459/986/png-transparent-goldilocks-and-the-three-bears-polar-bear-mother-bear-s-photography-toddler-vertebrate.png'],\n",
    "                'Chicken': ['Jasmine', 'https://www.pngitem.com/pimgs/m/487-4870006_jasmine-png-png-download-clipart-princess-jasmine-png.png']\n",
    "            },\n",
    "            'Robin': {\n",
    "                'Daisy': ['Elsa', 'https://toppng.com/uploads/preview/frozen-elsa-png-elsa-frozen-11562850382nfussztjiw.png'],\n",
    "                'Rose': ['Anna', 'https://www.pngmart.com/files/3/Anna-Transparent-Background.png'],\n",
    "                'Bluebell': ['Female Troll', 'https://img.favpng.com/1/10/0/anna-elsa-bulda-frozen-kristoff-png-favpng-hjV7umjBDT3q2ehtwekYw2S4X.jpg']\n",
    "            },\n",
    "            'Dolphin': {\n",
    "                'Scrabble': ['Moana', 'https://webstockreview.net/images/moana-clipart-transparent-background.jpg'],\n",
    "                'Cluedo': ['Te Fiti', 'https://www.pngitem.com/pimgs/m/128-1289553_moana-png-transparent-moana-te-fiti-png-png.png'],\n",
    "                'Monopoly': ['Te Ka', 'https://vignette.wikia.nocookie.net/moana/images/a/ac/Teka.jpg/revision/latest/scale-to-width-down/340?cb=20170325202141']\n",
    "            }\n",
    "        }\n",
    "    }}"
   ]
  },
  {
   "cell_type": "code",
   "execution_count": 44,
   "metadata": {},
   "outputs": [],
   "source": [
    "\n",
    "def is_valid_answer(answer):\n",
    "    return answer in LETTERS.values()\n",
    "\n",
    "def get_value(letter, values):\n",
    "    return values[DIGITS[letter]]"
   ]
  },
  {
   "cell_type": "code",
   "execution_count": 45,
   "metadata": {},
   "outputs": [],
   "source": [
    "def ask_a_favourite_question(subject, options):\n",
    "    print('Q: What is your favourite {}:'.format(subject))\n",
    "    \n",
    "    for index, option in enumerate(options):\n",
    "        print('{}) {}'.format(LETTERS[index], option))\n",
    "    \n",
    "    answer = input('Make your choice please:')\n",
    "    \n",
    "    if answer is None:\n",
    "        return ask_a_favourite_question(subject, options)\n",
    "    \n",
    "    answer = answer.upper()\n",
    "    \n",
    "    if is_valid_answer(answer):\n",
    "        return get_value(answer, options)\n",
    "    else:\n",
    "        return ask_a_favourite_question(subject, options)"
   ]
  },
  {
   "cell_type": "code",
   "execution_count": 46,
   "metadata": {},
   "outputs": [
    {
     "name": "stdout",
     "output_type": "stream",
     "text": [
      "Q: What is your favourite gender:\n",
      "A) Boy\n",
      "B) Girl\n",
      "C) Fox\n",
      "Make your choice please:b\n",
      "Q: What is your favourite colour:\n",
      "A) Crimson\n",
      "B) Lime\n",
      "C) Aqua\n",
      "Make your choice please:c\n",
      "Q: What is your favourite animal:\n",
      "A) Cat\n",
      "B) Robin\n",
      "C) Dolphin\n",
      "Make your choice please:a\n",
      "Q: What is your favourite food:\n",
      "A) Pizza\n",
      "B) Burger\n",
      "C) Chicken\n",
      "Make your choice please:c\n"
     ]
    }
   ],
   "source": [
    "\n",
    "gender = ask_a_favourite_question('gender', ['Boy', 'Girl', 'Fox'])\n",
    "\n",
    "favourite_colour = ask_a_favourite_question('colour', ['Crimson', 'Lime', 'Aqua'])\n",
    "\n",
    "if favourite_colour == 'Crimson':\n",
    "    second_favourite = ask_a_favourite_question('sweet', ['Ice cream', 'Cookies', 'Choclate'])\n",
    "    \n",
    "    if second_favourite == 'Ice cream':\n",
    "        third_favourite = ask_a_favourite_question('instrument', ['Piano', 'Guitar', 'Trumpet'])\n",
    "    elif second_favourite == 'Cookies':\n",
    "        third_favourite = ask_a_favourite_question('city', ['London', 'Paris', 'Tel Aviv'])\n",
    "    else:\n",
    "        third_favourite = ask_a_favourite_question('book', ['Harry Potter', 'Malander', 'The Hobbit'])\n",
    "elif favourite_colour == 'Lime':\n",
    "    second_favourite = ask_a_favourite_question('form of transport', ['Car', 'Boat', 'Plane'])\n",
    "    \n",
    "    if second_favourite == 'Car':\n",
    "        third_favourite = ask_a_favourite_question('number', ['7', '9', '51'])\n",
    "    elif second_favourite == 'Boat':\n",
    "        third_favourite = ask_a_favourite_question('pattern', ['Pokadots', 'Stripes', 'Triangles'])\n",
    "    else:\n",
    "        third_favourite = ask_a_favourite_question('dance', ['Street Dance', 'Ballet', 'Disco'])\n",
    "        \n",
    "else:\n",
    "    second_favourite = ask_a_favourite_question('animal', ['Cat', 'Robin', 'Dolphin'])\n",
    "    \n",
    "    if second_favourite == 'Cat':\n",
    "        third_favourite = ask_a_favourite_question('food', ['Pizza', 'Burger', 'Chicken'])\n",
    "    elif second_favourite == 'Robin':\n",
    "        third_favourite = ask_a_favourite_question('flower', ['Daisy', 'Rose', 'Bluebell'])\n",
    "    else:\n",
    "        third_favourite = ask_a_favourite_question('board game', ['Scrabble', 'Cluedo', 'Monopoly'])"
   ]
  },
  {
   "cell_type": "code",
   "execution_count": 47,
   "metadata": {},
   "outputs": [
    {
     "name": "stdout",
     "output_type": "stream",
     "text": [
      "You are Jasmine\n"
     ]
    },
    {
     "data": {
      "text/html": [
       "<img src=\"https://www.pngitem.com/pimgs/m/487-4870006_jasmine-png-png-download-clipart-princess-jasmine-png.png\" width=\"600\" height=\"600\"/>"
      ],
      "text/plain": [
       "<IPython.core.display.Image object>"
      ]
     },
     "execution_count": 47,
     "metadata": {},
     "output_type": "execute_result"
    }
   ],
   "source": [
    "character_data = CHARACTERS[gender][favourite_colour][second_favourite][third_favourite]\n",
    "\n",
    "print('You are', character_data[0])\n",
    "Image(url=character_data[1], width=600, height=600)"
   ]
  },
  {
   "cell_type": "code",
   "execution_count": 1,
   "metadata": {},
   "outputs": [
    {
     "data": {
      "image/jpeg": "[encoded data removed]",
      "text/plain": [
       "<IPython.core.display.Image object>"
      ]
     },
     "execution_count": 1,
     "metadata": {},
     "output_type": "execute_result"
    }
   ],
   "source": [
    "\n",
    "\n"
   ]
  },
  {
   "cell_type": "code",
   "execution_count": null,
   "metadata": {},
   "outputs": [],
   "source": []
  }
 ],
 "metadata": {
  "kernelspec": {
   "display_name": "Python 3",
   "language": "python",
   "name": "python3"
  },
  "language_info": {
   "codemirror_mode": {
    "name": "ipython",
    "version": 3
   },
   "file_extension": ".py",
   "mimetype": "text/x-python",
   "name": "python",
   "nbconvert_exporter": "python",
   "pygments_lexer": "ipython3",
   "version": "3.8.1"
  }
 },
 "nbformat": 4,
 "nbformat_minor": 4
}
